{
 "cells": [
  {
   "cell_type": "code",
   "execution_count": 50,
   "id": "d7118120",
   "metadata": {
    "ExecuteTime": {
     "end_time": "2023-02-07T09:15:00.332229Z",
     "start_time": "2023-02-07T09:15:00.323747Z"
    }
   },
   "outputs": [],
   "source": [
    "from tensorflow.keras.models import load_model\n",
    "import cv2\n",
    "\n",
    "import tensorflow as tf\n",
    "import os\n",
    "\n",
    "import numpy as np\n",
    "\n",
    "def results(pred):\n",
    "\n",
    "    y_hat = np.argmax(pred, axis=1)\n",
    "\n",
    "    y_true = ['healthy', 'healthy', 'healthy']\n",
    "\n",
    "    # get the meaning of the labels generated from tensorflow\n",
    "    data = tf.keras.utils.image_dataset_from_directory('../data_plant_disease/train_images/')\n",
    "    class_names = data.class_names\n",
    "    class_names_map = {i:class_names[i] for i in range(12)}\n",
    "\n",
    "    y_hat = [class_names_map[i] for i in y_hat]\n",
    "\n",
    "    print(f'\\nPredicted: {y_hat}\\nTrue: {y_true}')"
   ]
  },
  {
   "cell_type": "code",
   "execution_count": 51,
   "id": "b6d163ef",
   "metadata": {
    "ExecuteTime": {
     "end_time": "2023-02-07T09:15:00.721860Z",
     "start_time": "2023-02-07T09:15:00.629009Z"
    }
   },
   "outputs": [],
   "source": [
    "model = load_model('model.h5')\n"
   ]
  },
  {
   "cell_type": "code",
   "execution_count": 52,
   "id": "c5cfb221",
   "metadata": {
    "ExecuteTime": {
     "end_time": "2023-02-07T09:15:02.997566Z",
     "start_time": "2023-02-07T09:15:02.725719Z"
    }
   },
   "outputs": [
    {
     "name": "stdout",
     "output_type": "stream",
     "text": [
      "85f8cb619c66b863.jpg\n",
      "ad8770db05586b59.jpg\n",
      "c7b03e718489f3ca.jpg\n"
     ]
    }
   ],
   "source": [
    "\n",
    "# turn image into resized and normalized numpy arrays\n",
    "img_list = []\n",
    "\n",
    "for img_path in os.listdir(\"../data_plant_disease/test_images/\"):\n",
    "\n",
    "    print(img_path)\n",
    "    img = cv2.imread(\"../data_plant_disease/test_images/{}\".format(img_path))\n",
    "    img = tf.image.resize(img, (256,256))\n",
    "    img_list.append(img)\n",
    "\n",
    "img_list = np.array(img_list)/255"
   ]
  },
  {
   "cell_type": "code",
   "execution_count": 53,
   "id": "5c3800ce",
   "metadata": {
    "ExecuteTime": {
     "end_time": "2023-02-07T09:15:03.386593Z",
     "start_time": "2023-02-07T09:15:03.266170Z"
    }
   },
   "outputs": [
    {
     "name": "stdout",
     "output_type": "stream",
     "text": [
      "1/1 [==============================] - 0s 64ms/step\n"
     ]
    }
   ],
   "source": [
    "# predict\n",
    "pred = model.predict(img_list)\n"
   ]
  },
  {
   "cell_type": "code",
   "execution_count": 54,
   "id": "672dddd3",
   "metadata": {
    "ExecuteTime": {
     "end_time": "2023-02-07T09:15:05.048400Z",
     "start_time": "2023-02-07T09:15:03.730678Z"
    }
   },
   "outputs": [
    {
     "name": "stdout",
     "output_type": "stream",
     "text": [
      "Found 18632 files belonging to 12 classes.\n",
      "\n",
      "Predicted: ['healthy', 'scab', 'scab']\n",
      "True: ['healthy', 'healthy', 'healthy']\n"
     ]
    }
   ],
   "source": [
    "results(pred)"
   ]
  }
 ],
 "metadata": {
  "kernelspec": {
   "display_name": "Python 3 (ipykernel)",
   "language": "python",
   "name": "python3"
  },
  "language_info": {
   "codemirror_mode": {
    "name": "ipython",
    "version": 3
   },
   "file_extension": ".py",
   "mimetype": "text/x-python",
   "name": "python",
   "nbconvert_exporter": "python",
   "pygments_lexer": "ipython3",
   "version": "3.9.13"
  }
 },
 "nbformat": 4,
 "nbformat_minor": 5
}
