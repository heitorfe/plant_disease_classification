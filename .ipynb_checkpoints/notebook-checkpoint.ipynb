{
 "cells": [
  {
   "cell_type": "markdown",
   "metadata": {},
   "source": [
    "## Imports"
   ]
  },
  {
   "cell_type": "code",
   "execution_count": 3,
   "metadata": {
    "ExecuteTime": {
     "end_time": "2023-02-04T21:08:28.098130Z",
     "start_time": "2023-02-04T21:08:22.375034Z"
    }
   },
   "outputs": [],
   "source": [
    "import pandas as pd\n",
    "import numpy as np\n",
    "\n",
    "import tensorflow as tf\n",
    "from tensorflow import keras\n",
    "\n",
    "import os\n",
    "import imghdr\n",
    "import cv2"
   ]
  },
  {
   "cell_type": "markdown",
   "metadata": {},
   "source": [
    "## Load data"
   ]
  },
  {
   "cell_type": "code",
   "execution_count": 4,
   "metadata": {
    "ExecuteTime": {
     "end_time": "2023-02-04T21:08:33.724657Z",
     "start_time": "2023-02-04T21:08:33.665878Z"
    }
   },
   "outputs": [],
   "source": [
    "img_name_list_train = os.listdir('../data_plant_disease/train_images/')\n",
    "img_name_list_test = os.listdir('../data_plant_disease/test_images/')\n",
    "\n",
    "train_labels = pd.read_csv('../data_plant_disease/train.csv')"
   ]
  },
  {
   "cell_type": "code",
   "execution_count": 5,
   "metadata": {
    "ExecuteTime": {
     "end_time": "2023-02-04T21:08:34.211105Z",
     "start_time": "2023-02-04T21:08:34.192596Z"
    }
   },
   "outputs": [],
   "source": [
    "image_extensions = ['jpeg', 'jpg', 'bmp', 'png']"
   ]
  },
  {
   "cell_type": "code",
   "execution_count": 6,
   "metadata": {
    "ExecuteTime": {
     "end_time": "2023-02-04T21:19:22.185373Z",
     "start_time": "2023-02-04T21:08:34.966514Z"
    }
   },
   "outputs": [
    {
     "name": "stdout",
     "output_type": "stream",
     "text": [
      "loading... 0/18632\n",
      "loading... 1000/18632\n",
      "loading... 2000/18632\n",
      "loading... 3000/18632\n",
      "loading... 4000/18632\n"
     ]
    },
    {
     "ename": "KeyboardInterrupt",
     "evalue": "",
     "output_type": "error",
     "traceback": [
      "\u001b[1;31m---------------------------------------------------------------------------\u001b[0m",
      "\u001b[1;31mKeyboardInterrupt\u001b[0m                         Traceback (most recent call last)",
      "\u001b[1;32m~\\AppData\\Local\\Temp\\ipykernel_15208\\3565240774.py\u001b[0m in \u001b[0;36m<module>\u001b[1;34m\u001b[0m\n\u001b[0;32m      5\u001b[0m     \u001b[1;32mtry\u001b[0m\u001b[1;33m:\u001b[0m\u001b[1;33m\u001b[0m\u001b[1;33m\u001b[0m\u001b[0m\n\u001b[0;32m      6\u001b[0m         \u001b[0mimage_path\u001b[0m \u001b[1;33m=\u001b[0m \u001b[1;34mf'../data_plant_disease/train_images/{image}'\u001b[0m\u001b[1;33m\u001b[0m\u001b[1;33m\u001b[0m\u001b[0m\n\u001b[1;32m----> 7\u001b[1;33m         \u001b[0mimg\u001b[0m \u001b[1;33m=\u001b[0m \u001b[0mcv2\u001b[0m\u001b[1;33m.\u001b[0m\u001b[0mimread\u001b[0m\u001b[1;33m(\u001b[0m\u001b[0mimage_path\u001b[0m\u001b[1;33m)\u001b[0m\u001b[1;33m\u001b[0m\u001b[1;33m\u001b[0m\u001b[0m\n\u001b[0m\u001b[0;32m      8\u001b[0m         \u001b[0mtip\u001b[0m \u001b[1;33m=\u001b[0m \u001b[0mimghdr\u001b[0m\u001b[1;33m.\u001b[0m\u001b[0mwhat\u001b[0m\u001b[1;33m(\u001b[0m\u001b[0mimage_path\u001b[0m\u001b[1;33m)\u001b[0m\u001b[1;33m\u001b[0m\u001b[1;33m\u001b[0m\u001b[0m\n\u001b[0;32m      9\u001b[0m         \u001b[1;32mif\u001b[0m \u001b[0mtip\u001b[0m \u001b[1;32mnot\u001b[0m \u001b[1;32min\u001b[0m \u001b[0mimage_extensions\u001b[0m\u001b[1;33m:\u001b[0m\u001b[1;33m\u001b[0m\u001b[1;33m\u001b[0m\u001b[0m\n",
      "\u001b[1;31mKeyboardInterrupt\u001b[0m: "
     ]
    }
   ],
   "source": [
    "# clean wrong images in dataset if there is\n",
    "\n",
    "for index, image in enumerate(img_name_list_train):\n",
    "    \n",
    "    try: \n",
    "        image_path = f'../data_plant_disease/train_images/{image}'\n",
    "        img = cv2.imread(image_path)\n",
    "        tip = imghdr.what(image_path)\n",
    "        if tip not in image_extensions:\n",
    "            os.remove(image_path)\n",
    "        \n",
    "    except Exception as e:\n",
    "        print('Issue with image {}'.format(image_path))\n",
    "        \n",
    "    if index%1000==0:\n",
    "        print(f'loading... {index}/{len(img_name_list_train)}')"
   ]
  },
  {
   "cell_type": "code",
   "execution_count": 8,
   "metadata": {
    "ExecuteTime": {
     "end_time": "2023-02-04T21:19:30.216073Z",
     "start_time": "2023-02-04T21:19:30.192137Z"
    }
   },
   "outputs": [
    {
     "data": {
      "text/plain": [
       "array([[ 67, 122, 105],\n",
       "       [ 63, 118, 101],\n",
       "       [ 59, 114,  97],\n",
       "       ...,\n",
       "       [243, 255, 255],\n",
       "       [243, 255, 255],\n",
       "       [243, 255, 255]], dtype=uint8)"
      ]
     },
     "execution_count": 8,
     "metadata": {},
     "output_type": "execute_result"
    }
   ],
   "source": [
    "img[0]"
   ]
  },
  {
   "cell_type": "code",
   "execution_count": 31,
   "metadata": {
    "ExecuteTime": {
     "end_time": "2023-02-04T21:01:46.776355Z",
     "start_time": "2023-02-04T21:01:46.765483Z"
    }
   },
   "outputs": [
    {
     "data": {
      "text/plain": [
       "'800113bb65efe69e.jpg'"
      ]
     },
     "execution_count": 31,
     "metadata": {},
     "output_type": "execute_result"
    }
   ],
   "source": [
    "img_name_list_train[0]"
   ]
  },
  {
   "cell_type": "code",
   "execution_count": 32,
   "metadata": {
    "ExecuteTime": {
     "end_time": "2023-02-04T21:02:29.941550Z",
     "start_time": "2023-02-04T21:02:29.914538Z"
    }
   },
   "outputs": [
    {
     "data": {
      "text/plain": [
       "'jpeg'"
      ]
     },
     "execution_count": 32,
     "metadata": {},
     "output_type": "execute_result"
    }
   ],
   "source": [
    "imghdr.what('../data_plant_disease/train_images/800113bb65efe69e.jpg')"
   ]
  },
  {
   "cell_type": "code",
   "execution_count": 21,
   "metadata": {
    "ExecuteTime": {
     "end_time": "2023-02-04T20:52:27.353922Z",
     "start_time": "2023-02-04T20:52:27.334741Z"
    }
   },
   "outputs": [
    {
     "data": {
      "text/plain": [
       "[PhysicalDevice(name='/physical_device:CPU:0', device_type='CPU')]"
      ]
     },
     "execution_count": 21,
     "metadata": {},
     "output_type": "execute_result"
    }
   ],
   "source": [
    "tf.config.experimental.list_physical_devices()"
   ]
  },
  {
   "cell_type": "code",
   "execution_count": null,
   "metadata": {},
   "outputs": [],
   "source": []
  }
 ],
 "metadata": {
  "kernelspec": {
   "display_name": "Python 3 (ipykernel)",
   "language": "python",
   "name": "python3"
  },
  "language_info": {
   "codemirror_mode": {
    "name": "ipython",
    "version": 3
   },
   "file_extension": ".py",
   "mimetype": "text/x-python",
   "name": "python",
   "nbconvert_exporter": "python",
   "pygments_lexer": "ipython3",
   "version": "3.9.13"
  }
 },
 "nbformat": 4,
 "nbformat_minor": 2
}
